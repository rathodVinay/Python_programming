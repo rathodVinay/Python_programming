{
 "cells": [
  {
   "cell_type": "code",
   "execution_count": 2,
   "id": "2dd75705",
   "metadata": {},
   "outputs": [
    {
     "name": "stdout",
     "output_type": "stream",
     "text": [
      "2 5\n",
      "32\n"
     ]
    }
   ],
   "source": [
    "def power(x,n):\n",
    "    if n==0:\n",
    "        return 1\n",
    "    smalloutput=power(x,n-1)\n",
    "    return x*smalloutput\n",
    "\n",
    "x,n=input().split()\n",
    "x=int(x)\n",
    "n=int(n)\n",
    "k=power(x,n)\n",
    "print(k)"
   ]
  },
  {
   "cell_type": "code",
   "execution_count": 4,
   "id": "ec8b981f",
   "metadata": {},
   "outputs": [
    {
     "name": "stdout",
     "output_type": "stream",
     "text": [
      "10\n"
     ]
    },
    {
     "data": {
      "text/plain": [
       "3628800"
      ]
     },
     "execution_count": 4,
     "metadata": {},
     "output_type": "execute_result"
    }
   ],
   "source": [
    "def fact(n):\n",
    "    if n==0:\n",
    "        return 1\n",
    "    return n*fact(n-1)\n",
    "n=int(input())\n",
    "fact(n)"
   ]
  },
  {
   "cell_type": "code",
   "execution_count": 5,
   "id": "c2add403",
   "metadata": {},
   "outputs": [
    {
     "name": "stdout",
     "output_type": "stream",
     "text": [
      "5\n"
     ]
    },
    {
     "data": {
      "text/plain": [
       "120"
      ]
     },
     "execution_count": 5,
     "metadata": {},
     "output_type": "execute_result"
    }
   ],
   "source": [
    "n=int(input())\n",
    "fact(n)"
   ]
  },
  {
   "cell_type": "code",
   "execution_count": 2,
   "id": "d542bd3d",
   "metadata": {},
   "outputs": [],
   "source": [
    "def printnto1(n):\n",
    "    if n==0:\n",
    "        return 0\n",
    "    print(n)\n",
    "    printnto1(n-1)\n",
    "    return printnto1\n"
   ]
  },
  {
   "cell_type": "code",
   "execution_count": 3,
   "id": "6478f909",
   "metadata": {},
   "outputs": [
    {
     "name": "stdout",
     "output_type": "stream",
     "text": [
      "7\n",
      "7\n",
      "6\n",
      "5\n",
      "4\n",
      "3\n",
      "2\n",
      "1\n"
     ]
    },
    {
     "data": {
      "text/plain": [
       "<function __main__.printnto1(n)>"
      ]
     },
     "execution_count": 3,
     "metadata": {},
     "output_type": "execute_result"
    }
   ],
   "source": [
    "n=int(input())\n",
    "printnto1(n)"
   ]
  },
  {
   "cell_type": "code",
   "execution_count": 5,
   "id": "e10fd012",
   "metadata": {},
   "outputs": [],
   "source": [
    "def print_1_to_n(n):\n",
    "    if n==0:\n",
    "        return 0\n",
    "    print_1_to_n(n-1)\n",
    "    print(n)\n",
    "    return \n",
    "    "
   ]
  },
  {
   "cell_type": "code",
   "execution_count": 6,
   "id": "6c75234e",
   "metadata": {},
   "outputs": [
    {
     "name": "stdout",
     "output_type": "stream",
     "text": [
      "7\n",
      "1\n",
      "2\n",
      "3\n",
      "4\n",
      "5\n",
      "6\n",
      "7\n"
     ]
    }
   ],
   "source": [
    "n=int(input())\n",
    "print_1_to_n(n)"
   ]
  },
  {
   "cell_type": "code",
   "execution_count": 1,
   "id": "d79f40d8",
   "metadata": {},
   "outputs": [],
   "source": [
    "def fib(n):\n",
    "    if n==1 or n==2:\n",
    "        return 1\n",
    "    fib_n_1=fib(n-1)\n",
    "    fib_n_2=fib(n-2)\n",
    "    return fib_n_1+fib_n_2\n",
    "\n"
   ]
  },
  {
   "cell_type": "code",
   "execution_count": 2,
   "id": "a25976ec",
   "metadata": {},
   "outputs": [
    {
     "name": "stdout",
     "output_type": "stream",
     "text": [
      "10\n"
     ]
    },
    {
     "data": {
      "text/plain": [
       "55"
      ]
     },
     "execution_count": 2,
     "metadata": {},
     "output_type": "execute_result"
    }
   ],
   "source": [
    "n=int(input())\n",
    "fib(n)"
   ]
  },
  {
   "cell_type": "code",
   "execution_count": 12,
   "id": "ae8e3ca2",
   "metadata": {},
   "outputs": [
    {
     "name": "stdout",
     "output_type": "stream",
     "text": [
      "16\n"
     ]
    }
   ],
   "source": [
    "def fun(n):\n",
    "    if(n == 4):\n",
    "        return n\n",
    "    else:\n",
    "        return 2*fun(n+1)\n",
    "\n",
    "\n",
    "print(fun(2))"
   ]
  },
  {
   "cell_type": "code",
   "execution_count": 1,
   "id": "cfe04cb9",
   "metadata": {},
   "outputs": [
    {
     "name": "stdout",
     "output_type": "stream",
     "text": [
      "1 2 3 4\n"
     ]
    },
    {
     "data": {
      "text/plain": [
       "10"
      ]
     },
     "execution_count": 1,
     "metadata": {},
     "output_type": "execute_result"
    }
   ],
   "source": [
    "def sum_array(arr,n):\n",
    "    if len(arr)==1:\n",
    "        return arr[0]\n",
    "    else:\n",
    "        output= arr[0]+sum_array(arr[1:],n)\n",
    "        return output\n",
    "\n",
    "arr=[]\n",
    "arr=[int(x) for x in input().split()]\n",
    "n=len(arr)\n",
    "sum_array(arr,n)"
   ]
  },
  {
   "cell_type": "code",
   "execution_count": 3,
   "id": "c03e220d",
   "metadata": {},
   "outputs": [
    {
     "name": "stdout",
     "output_type": "stream",
     "text": [
      "1 2 3 4 5\n",
      "1\n",
      "true\n"
     ]
    }
   ],
   "source": [
    "def checkNumber(arr, x):\n",
    "    if(n==0):\n",
    "        return False\n",
    "    i=0\n",
    "    if(x==arr[i]):\n",
    "        return True\n",
    "        i+=1\n",
    "    checkNumber(arr[i:],x)\n",
    "    \n",
    "    pass\n",
    "\n",
    "# Main\n",
    "from sys import setrecursionlimit\n",
    "setrecursionlimit(11000)\n",
    "arr=list(int(i) for i in input().strip().split(' '))\n",
    "n=len(arr)\n",
    "x=int(input())\n",
    "if checkNumber(arr, x):\n",
    "    print('true')\n",
    "else:\n",
    "    print('false')\n"
   ]
  },
  {
   "cell_type": "code",
   "execution_count": 5,
   "id": "a5be76a6",
   "metadata": {},
   "outputs": [],
   "source": [
    "'''check if sorted or not'''\n",
    "def issorted(arr):\n",
    "    l=len(arr)\n",
    "    if l==0 or l==1:\n",
    "        return True\n",
    "    if arr[0]>arr[1]:\n",
    "        return False\n",
    "    smallerlist=arr[1:]\n",
    "    issmallerlistsorted=issorted(smallerlist)\n",
    "    \n",
    "    if issmallerlistsorted:\n",
    "        return True\n",
    "    return False\n",
    "    "
   ]
  },
  {
   "cell_type": "code",
   "execution_count": 4,
   "id": "6c03be42",
   "metadata": {},
   "outputs": [
    {
     "data": {
      "text/plain": [
       "False"
      ]
     },
     "execution_count": 4,
     "metadata": {},
     "output_type": "execute_result"
    }
   ],
   "source": [
    "arr=[2,4,1,7,9,10]\n",
    "issorted(arr)"
   ]
  },
  {
   "cell_type": "code",
   "execution_count": 6,
   "id": "15b87e47",
   "metadata": {},
   "outputs": [
    {
     "data": {
      "text/plain": [
       "True"
      ]
     },
     "execution_count": 6,
     "metadata": {},
     "output_type": "execute_result"
    }
   ],
   "source": [
    "arr=[7,8,9,10,11]\n",
    "issorted(arr)"
   ]
  },
  {
   "cell_type": "code",
   "execution_count": 2,
   "id": "686eab64",
   "metadata": {},
   "outputs": [],
   "source": [
    "'''check the occurance of 1st index'''\n",
    "def firstindex(a,x):\n",
    "    l=len(a)\n",
    "    if l==0 :\n",
    "        return -1\n",
    "    if a[0]==x:\n",
    "        return 0\n",
    "    smallpart=a[1:]\n",
    "    smallerlistoutput=firstindex(smallpart,x)\n",
    "    if smallerlistoutput==-1:\n",
    "        return -1\n",
    "    else:\n",
    "        return smallerlistoutput+1\n",
    "    "
   ]
  },
  {
   "cell_type": "code",
   "execution_count": 4,
   "id": "e9de2fea",
   "metadata": {},
   "outputs": [
    {
     "name": "stdout",
     "output_type": "stream",
     "text": [
      "6\n"
     ]
    },
    {
     "data": {
      "text/plain": [
       "-1"
      ]
     },
     "execution_count": 4,
     "metadata": {},
     "output_type": "execute_result"
    }
   ],
   "source": [
    "a=[1,2,3,4,5]\n",
    "x=int(input())\n",
    "firstindex(a,x)"
   ]
  },
  {
   "cell_type": "code",
   "execution_count": 17,
   "id": "3c9e6e6e",
   "metadata": {},
   "outputs": [],
   "source": [
    "'''checking index by si method'''\n",
    "def firstindex(a,x,si):\n",
    "    l=len(a)\n",
    "    if si==l:\n",
    "        return -1\n",
    "    if a[si]==x:\n",
    "        return si\n",
    "    smallerlistoutput=firstindex(a,x,si+1)\n",
    "    return smallerlistoutput"
   ]
  },
  {
   "cell_type": "code",
   "execution_count": 18,
   "id": "30f983b7",
   "metadata": {},
   "outputs": [
    {
     "data": {
      "text/plain": [
       "2"
      ]
     },
     "execution_count": 18,
     "metadata": {},
     "output_type": "execute_result"
    }
   ],
   "source": [
    "a=[1,2,5,7,3,5]\n",
    "x=5\n",
    "si=0\n",
    "firstindex(a,x,si)"
   ]
  },
  {
   "cell_type": "code",
   "execution_count": 3,
   "id": "48e3fdf6",
   "metadata": {},
   "outputs": [
    {
     "data": {
      "text/plain": [
       "-1"
      ]
     },
     "execution_count": 3,
     "metadata": {},
     "output_type": "execute_result"
    }
   ],
   "source": [
    "a=[1,2,5,7,3,2]\n",
    "x=9\n",
    "firstindex(a,x)"
   ]
  },
  {
   "cell_type": "code",
   "execution_count": 22,
   "id": "3cb06c0f",
   "metadata": {},
   "outputs": [],
   "source": [
    "'''last occurance of a list'''\n",
    "def lastindex(a,x):\n",
    "    l=len(a)\n",
    "    if l==0:\n",
    "        return -1\n",
    "    smallerlist=a[1:]\n",
    "    smallerlistoutput=lastindex(smallerlist,x)\n",
    "    if smallerlistoutput!=-1:\n",
    "        return smallerlistoutput+1\n",
    "    else:\n",
    "        if a[0]==x:\n",
    "            return 0\n",
    "        else:\n",
    "            return -1\n",
    "        \n",
    "    "
   ]
  },
  {
   "cell_type": "code",
   "execution_count": 23,
   "id": "9aedc0c4",
   "metadata": {},
   "outputs": [
    {
     "data": {
      "text/plain": [
       "9"
      ]
     },
     "execution_count": 23,
     "metadata": {},
     "output_type": "execute_result"
    }
   ],
   "source": [
    "a=[1,2,4,3,2,4,2,7,8,2]\n",
    "x=2\n",
    "lastindex(a,x)"
   ]
  },
  {
   "cell_type": "markdown",
   "id": "30e550e9",
   "metadata": {},
   "source": [
    "Finding all subsequences of a String"
   ]
  },
  {
   "cell_type": "raw",
   "id": "faeb23a0",
   "metadata": {},
   "source": [
    "Sample Input:\n",
    "abc"
   ]
  },
  {
   "cell_type": "raw",
   "id": "ecbde715",
   "metadata": {},
   "source": [
    "Sample Output:\n",
    "\"\" (the double quotes just signifies an empty string, don't worry about the quotes)\n",
    "c \n",
    "b \n",
    "bc \n",
    "a \n",
    "ac \n",
    "ab \n",
    "abc "
   ]
  },
  {
   "cell_type": "code",
   "execution_count": 7,
   "id": "18d7f576",
   "metadata": {},
   "outputs": [
    {
     "name": "stdout",
     "output_type": "stream",
     "text": [
      "\n",
      "d\n",
      "c\n",
      "cd\n",
      "b\n",
      "bd\n",
      "bc\n",
      "bcd\n",
      "a\n",
      "ad\n",
      "ac\n",
      "acd\n",
      "ab\n",
      "abd\n",
      "abc\n",
      "abcd\n"
     ]
    }
   ],
   "source": [
    "def subsequences(string):\n",
    "    if len(string)==0:\n",
    "        output=[]\n",
    "        output.append(\"\")\n",
    "        return output\n",
    "    \n",
    "    smallpart=subsequences(string[1:])\n",
    "    \n",
    "    output=[]\n",
    "    for ele in smallpart:\n",
    "        output.append(ele)\n",
    "        \n",
    "    for sub in smallpart:\n",
    "        subs_with_zero=string[0]+sub\n",
    "        output.append(subs_with_zero)\n",
    "        \n",
    "    return output\n",
    "    \n",
    "string=\"abcd\"\n",
    "x=subsequences(string)\n",
    "for ele in x:\n",
    "    print(ele)\n",
    "\n"
   ]
  },
  {
   "cell_type": "markdown",
   "id": "98a3f58e",
   "metadata": {},
   "source": [
    "Keyboard configuration"
   ]
  },
  {
   "cell_type": "code",
   "execution_count": 2,
   "id": "b88890a4",
   "metadata": {},
   "outputs": [],
   "source": [
    "def getString(d):\n",
    "    if d==2:\n",
    "        return 'abc'\n",
    "    if d==3:\n",
    "        return 'def'\n",
    "    if d==4:\n",
    "        return 'ghi'\n",
    "    if d==5:\n",
    "        return 'jkl'\n",
    "    if d==6:\n",
    "        return 'mno'\n",
    "    if d==7:\n",
    "        return 'pqrs'\n",
    "    if d==8:\n",
    "        return 'tuv'\n",
    "    if d==9:\n",
    "        return 'wxyz'\n",
    "    \n",
    "    return \" \""
   ]
  },
  {
   "cell_type": "code",
   "execution_count": 6,
   "id": "2dc19284",
   "metadata": {},
   "outputs": [
    {
     "name": "stdout",
     "output_type": "stream",
     "text": [
      "234\n",
      " adg\n",
      " adh\n",
      " adi\n",
      " aeg\n",
      " aeh\n",
      " aei\n",
      " afg\n",
      " afh\n",
      " afi\n",
      " bdg\n",
      " bdh\n",
      " bdi\n",
      " beg\n",
      " beh\n",
      " bei\n",
      " bfg\n",
      " bfh\n",
      " bfi\n",
      " cdg\n",
      " cdh\n",
      " cdi\n",
      " ceg\n",
      " ceh\n",
      " cei\n",
      " cfg\n",
      " cfh\n",
      " cfi\n"
     ]
    }
   ],
   "source": [
    "def keyboard_config(n):\n",
    "    \n",
    "    if n==0:\n",
    "        output=[]\n",
    "        output.append(\" \")\n",
    "        return output\n",
    "    \n",
    "    smallint=(n//10)\n",
    "    remaining=(n%10)\n",
    "    smalloutput=keyboard_config(smallint)\n",
    "    operations_for_last=getString(remaining)\n",
    "    \n",
    "    output=[]\n",
    "    for ele in smalloutput:\n",
    "        for sub in operations_for_last:\n",
    "            option=ele+sub\n",
    "            output.append(option)\n",
    "    return output\n",
    "        \n",
    "n=int(input())\n",
    "ans=keyboard_config(n)\n",
    "for ele in ans:\n",
    "    print(ele)\n",
    "    \n",
    "    "
   ]
  },
  {
   "cell_type": "code",
   "execution_count": 25,
   "id": "60307aee",
   "metadata": {},
   "outputs": [
    {
     "name": "stdout",
     "output_type": "stream",
     "text": [
      "36\n"
     ]
    }
   ],
   "source": [
    "ans=keyboard_config(237)\n",
    "print(len(ans))"
   ]
  },
  {
   "cell_type": "code",
   "execution_count": 26,
   "id": "cfbda273",
   "metadata": {},
   "outputs": [
    {
     "data": {
      "text/plain": [
       "[' adp',\n",
       " ' adq',\n",
       " ' adr',\n",
       " ' ads',\n",
       " ' aep',\n",
       " ' aeq',\n",
       " ' aer',\n",
       " ' aes',\n",
       " ' afp',\n",
       " ' afq',\n",
       " ' afr',\n",
       " ' afs',\n",
       " ' bdp',\n",
       " ' bdq',\n",
       " ' bdr',\n",
       " ' bds',\n",
       " ' bep',\n",
       " ' beq',\n",
       " ' ber',\n",
       " ' bes',\n",
       " ' bfp',\n",
       " ' bfq',\n",
       " ' bfr',\n",
       " ' bfs',\n",
       " ' cdp',\n",
       " ' cdq',\n",
       " ' cdr',\n",
       " ' cds',\n",
       " ' cep',\n",
       " ' ceq',\n",
       " ' cer',\n",
       " ' ces',\n",
       " ' cfp',\n",
       " ' cfq',\n",
       " ' cfr',\n",
       " ' cfs']"
      ]
     },
     "execution_count": 26,
     "metadata": {},
     "output_type": "execute_result"
    }
   ],
   "source": [
    "ans"
   ]
  },
  {
   "cell_type": "markdown",
   "id": "1f57dd50",
   "metadata": {},
   "source": [
    "what if we print instead of Returning"
   ]
  },
  {
   "cell_type": "code",
   "execution_count": 38,
   "id": "abed8b95",
   "metadata": {},
   "outputs": [
    {
     "name": "stdout",
     "output_type": "stream",
     "text": [
      "5\n",
      "120\n"
     ]
    }
   ],
   "source": [
    "def factHelper(n):\n",
    "    if n==0:\n",
    "        return 1\n",
    "    smallpart=factHelper(n-1)\n",
    "    output=n*smallpart\n",
    "    return output\n",
    "\n",
    "n=int(input())\n",
    "fact(n)"
   ]
  },
  {
   "cell_type": "code",
   "execution_count": 34,
   "id": "be4dddc8",
   "metadata": {},
   "outputs": [],
   "source": [
    "def fact(n):\n",
    "    output=factHelper(n)\n",
    "    print(output)"
   ]
  },
  {
   "cell_type": "code",
   "execution_count": 35,
   "id": "4e1ab99d",
   "metadata": {},
   "outputs": [
    {
     "name": "stdout",
     "output_type": "stream",
     "text": [
      "5\n",
      "120\n"
     ]
    }
   ],
   "source": [
    "n=int(input())\n",
    "fact(n)"
   ]
  },
  {
   "cell_type": "code",
   "execution_count": 40,
   "id": "84cf4b41",
   "metadata": {},
   "outputs": [
    {
     "name": "stdout",
     "output_type": "stream",
     "text": [
      "5\n",
      "120\n"
     ]
    }
   ],
   "source": [
    "def PrintFact(n,ans):\n",
    "    if n==0:\n",
    "        print(ans)\n",
    "        return \n",
    "    ans=ans*n\n",
    "    PrintFact(n-1,ans)\n",
    "\n",
    "n=int(input())\n",
    "PrintFact(n,1)\n"
   ]
  },
  {
   "cell_type": "code",
   "execution_count": 39,
   "id": "77216398",
   "metadata": {},
   "outputs": [
    {
     "name": "stdout",
     "output_type": "stream",
     "text": [
      "120\n"
     ]
    }
   ],
   "source": [
    "def fact(n):\n",
    "    \n",
    "    i=n\n",
    "    sum_fact=1\n",
    "    while i>=1:\n",
    "        sum_fact=sum_fact*i\n",
    "        i=i-1\n",
    "    return sum_fact\n",
    "print(fact(5))\n",
    "        "
   ]
  },
  {
   "cell_type": "markdown",
   "id": "71962111",
   "metadata": {},
   "source": [
    "Minimum of a Array"
   ]
  },
  {
   "cell_type": "code",
   "execution_count": 41,
   "id": "37f149ac",
   "metadata": {},
   "outputs": [],
   "source": [
    "def minList(l):\n",
    "    if len(l)==1:\n",
    "        return l[0]\n",
    "    smallpart=minList(l[1:])\n",
    "    overall=min(smallpart,l[0])\n",
    "    return overall\n"
   ]
  },
  {
   "cell_type": "code",
   "execution_count": 42,
   "id": "ec591271",
   "metadata": {},
   "outputs": [],
   "source": [
    "def printMin(l,minSofar):\n",
    "    if len(l)==0:\n",
    "        print(minSofar)\n",
    "        return\n",
    "    \n",
    "    newMin=min(minSofar,l[0])\n",
    "    printMin(l[1:],newMin)\n",
    "    \n"
   ]
  },
  {
   "cell_type": "code",
   "execution_count": 43,
   "id": "10d0c556",
   "metadata": {},
   "outputs": [
    {
     "name": "stdout",
     "output_type": "stream",
     "text": [
      "-7\n"
     ]
    }
   ],
   "source": [
    "l=[-1,2,3,4,5,6,-7]\n",
    "printMin(l,1000)"
   ]
  },
  {
   "cell_type": "markdown",
   "id": "083348e4",
   "metadata": {},
   "source": [
    "Print all the subsequence"
   ]
  },
  {
   "cell_type": "code",
   "execution_count": 7,
   "id": "831ca092",
   "metadata": {},
   "outputs": [],
   "source": [
    "def subsequenceHelper(string):\n",
    "    \n",
    "    if len(string)==0:\n",
    "        output=[]\n",
    "        output.append(\" \")\n",
    "        return output\n",
    "    \n",
    "    smallpart=subsequenceHelper(string[1:])\n",
    "    \n",
    "    output=[]\n",
    "    for ele in smallpart:\n",
    "        output.append(ele)\n",
    "        \n",
    "    for sub in smallpart:\n",
    "        including_zero=string[0]+sub\n",
    "        output.append(including_zero)\n",
    "        \n",
    "    return output\n",
    "    "
   ]
  },
  {
   "cell_type": "code",
   "execution_count": 10,
   "id": "a1d3714c",
   "metadata": {},
   "outputs": [
    {
     "name": "stdout",
     "output_type": "stream",
     "text": [
      " \n",
      "d \n",
      "c \n",
      "cd \n",
      "b \n",
      "bd \n",
      "bc \n",
      "bcd \n",
      "a \n",
      "ad \n",
      "ac \n",
      "acd \n",
      "ab \n",
      "abd \n",
      "abc \n",
      "abcd \n"
     ]
    }
   ],
   "source": [
    "def subsequence(string):\n",
    "    \n",
    "    x=subsequenceHelper(string)\n",
    "    for ele in x:\n",
    "        print(ele)\n",
    "        \n",
    "string=\"abcd\"\n",
    "subsequence(string)"
   ]
  },
  {
   "cell_type": "code",
   "execution_count": 17,
   "id": "6f710182",
   "metadata": {},
   "outputs": [],
   "source": [
    "def stringHelper(d):\n",
    "    if d==2:\n",
    "        return \"abc\"\n",
    "    if d==3:\n",
    "        return \"def\"\n",
    "    if d==4:\n",
    "        return \"ghi\"\n",
    "    if d==5:\n",
    "        return \"jkl\"\n",
    "    if d==6:\n",
    "        return \"mno\"\n",
    "    if d==7:\n",
    "        return \"pqrs\"\n",
    "    if d==8:\n",
    "        return \"tuv\"\n",
    "    if d==9:\n",
    "        return \"wxyz\"\n",
    "    return \" \"\n",
    "   \n",
    "    "
   ]
  },
  {
   "cell_type": "code",
   "execution_count": 24,
   "id": "c7bf60e7",
   "metadata": {},
   "outputs": [],
   "source": [
    "def keyboard_helper(n):\n",
    "    \n",
    "    if n==0:\n",
    "        output=[]\n",
    "        output.append(\" \")\n",
    "        return output\n",
    "    \n",
    "    smallint=int(n/10)\n",
    "    remainder = n%10\n",
    "    smallpart=keyboard_helper(smallint)\n",
    "    strings=stringHelper(remainder)\n",
    "    \n",
    "    output=[]\n",
    "    for ele in smallpart:\n",
    "        for x in strings:\n",
    "            out=ele+x\n",
    "            output.append(out)\n",
    "            \n",
    "    return output\n",
    "    "
   ]
  },
  {
   "cell_type": "code",
   "execution_count": 30,
   "id": "04c4a662",
   "metadata": {},
   "outputs": [
    {
     "name": "stdout",
     "output_type": "stream",
     "text": [
      "23\n",
      " ad\n",
      " ae\n",
      " af\n",
      " bd\n",
      " be\n",
      " bf\n",
      " cd\n",
      " ce\n",
      " cf\n"
     ]
    }
   ],
   "source": [
    "def keyboard_config(n):\n",
    "    \n",
    "    x=keyboard_helper(n)\n",
    "    for k in x:\n",
    "        print(k)\n",
    "    \n",
    "        \n",
    "n=int(input())\n",
    "keyboard_config(n)\n"
   ]
  },
  {
   "cell_type": "markdown",
   "id": "fef6b0aa",
   "metadata": {},
   "source": [
    "Return subsets of Array"
   ]
  },
  {
   "cell_type": "raw",
   "id": "f1026af2",
   "metadata": {},
   "source": [
    "Sample Input:\n",
    "3\n",
    "15 20 12"
   ]
  },
  {
   "cell_type": "raw",
   "id": "5ee8d881",
   "metadata": {},
   "source": [
    "Sample Output:\n",
    "[] (this just represents an empty array, don't worry about the square brackets)\n",
    "12 \n",
    "20 \n",
    "20 12 \n",
    "15 \n",
    "15 12 \n",
    "15 20 \n",
    "15 20 12 "
   ]
  },
  {
   "cell_type": "code",
   "execution_count": 36,
   "id": "8a7e0eb2",
   "metadata": {},
   "outputs": [
    {
     "name": "stdout",
     "output_type": "stream",
     "text": [
      "\n",
      "15 \n",
      "20 \n",
      "15 20 \n",
      "12 \n",
      "15 12 \n",
      "20 12 \n",
      "15 20 12 \n"
     ]
    }
   ],
   "source": [
    "def subsets(arr):\n",
    "    \n",
    "    n=len(arr)\n",
    "    if n<=0:\n",
    "        output=[[]]\n",
    "        return output\n",
    "    \n",
    "    output=subsets(arr[:n-1])\n",
    "    x=len(output)\n",
    "    for i in range(x):\n",
    "        output.append(output[i].copy())\n",
    "        output[x+i].append(arr[n-1])\n",
    "        \n",
    "    return output\n",
    "    \n",
    "arr=[15,20,12]\n",
    "x=subsets(arr)\n",
    "for i in x:\n",
    "    for j in i:\n",
    "        print(j,end=\" \")\n",
    "    print()"
   ]
  },
  {
   "cell_type": "markdown",
   "id": "5aa64e6f",
   "metadata": {},
   "source": [
    "Print subsets"
   ]
  },
  {
   "cell_type": "code",
   "execution_count": 7,
   "id": "7ad0e2fb",
   "metadata": {},
   "outputs": [
    {
     "name": "stdout",
     "output_type": "stream",
     "text": [
      "\n",
      "15 \n",
      "15 \n",
      "15 15 \n",
      "14 \n",
      "15 14 \n",
      "15 14 \n",
      "15 15 14 \n",
      "7 \n",
      "15 7 \n",
      "15 7 \n",
      "15 15 7 \n",
      "14 7 \n",
      "15 14 7 \n",
      "15 14 7 \n",
      "15 15 14 7 \n"
     ]
    }
   ],
   "source": [
    "def subsetsHelper(arr):\n",
    "    n=len(arr)\n",
    "    if n<=0:\n",
    "        output=[[]]\n",
    "        return output\n",
    "    \n",
    "    output=subsetsHelper(arr[:n-1])\n",
    "    x=len(output)\n",
    "    for i in range(x):\n",
    "        output.append(output[i].copy())\n",
    "        output[x+i].append(arr[n-1])\n",
    "    return output\n",
    "\n",
    "def subsets(arr):\n",
    "    return subsetsHelper(arr)\n",
    "\n",
    "arr=[15 ,15, 14, 7]\n",
    "k=subsets(arr)\n",
    "for i in k:\n",
    "    for j in i:\n",
    "        print(j,end=\" \")\n",
    "    print()\n",
    "\n"
   ]
  },
  {
   "cell_type": "markdown",
   "id": "e1505974",
   "metadata": {},
   "source": [
    "Subsets Sum equal to k"
   ]
  },
  {
   "cell_type": "raw",
   "id": "9eb00563",
   "metadata": {},
   "source": [
    "Sample Input :\n",
    "9 \n",
    "5 12 3 17 1 18 15 3 17 \n",
    "6"
   ]
  },
  {
   "cell_type": "raw",
   "id": "845401a2",
   "metadata": {},
   "source": [
    "Sample Output :\n",
    "3 3\n",
    "5 1"
   ]
  },
  {
   "cell_type": "markdown",
   "id": "29fc3b5c",
   "metadata": {},
   "source": [
    "Palindrome of string"
   ]
  },
  {
   "cell_type": "code",
   "execution_count": 6,
   "id": "90fb3cda",
   "metadata": {},
   "outputs": [],
   "source": [
    "def isPalindrome(string,l,r):\n",
    "    \n",
    "    if l>=r:\n",
    "        return True\n",
    "    if string[l]!=string[r]:\n",
    "        return False\n",
    "    \n",
    "    return isPalindrome(string,l+1,r-1)\n",
    "    "
   ]
  },
  {
   "cell_type": "code",
   "execution_count": 7,
   "id": "516b7e00",
   "metadata": {},
   "outputs": [
    {
     "name": "stdout",
     "output_type": "stream",
     "text": [
      "malayalam\n",
      "palindrome\n"
     ]
    }
   ],
   "source": [
    "string=str(input())\n",
    "x=isPalindrome(string,0,len(string)-1)\n",
    "if x:\n",
    "    print(\"palindrome\")\n",
    "else:\n",
    "    print(\"Not palindrome\")"
   ]
  },
  {
   "cell_type": "markdown",
   "id": "03b71481",
   "metadata": {},
   "source": [
    "Permutation of string"
   ]
  },
  {
   "cell_type": "raw",
   "id": "f08773d4",
   "metadata": {},
   "source": [
    "Sample Input :\n",
    "abc"
   ]
  },
  {
   "cell_type": "raw",
   "id": "52501168",
   "metadata": {},
   "source": [
    "Sample Output :\n",
    "abc\n",
    "acb\n",
    "bac\n",
    "bca\n",
    "cab\n",
    "cba"
   ]
  },
  {
   "cell_type": "code",
   "execution_count": 1,
   "id": "0fb4a029",
   "metadata": {},
   "outputs": [
    {
     "name": "stdout",
     "output_type": "stream",
     "text": [
      "123\n",
      "1 2 3 \n",
      "1 3 2 \n",
      "2 1 3 \n",
      "2 3 1 \n",
      "3 1 2 \n",
      "3 2 1 \n"
     ]
    }
   ],
   "source": [
    "from itertools import permutations\n",
    "\n",
    "def allpermutations(string):\n",
    "    \n",
    "    x=permutations(string)\n",
    "    for i in list(x):\n",
    "        k=print(\" \".join(i))\n",
    "    return k\n",
    "\n",
    "string=(input())\n",
    "x=permutations(string)\n",
    "for i in list(x):\n",
    "    for j in i:\n",
    "        print(j,end=\" \")\n",
    "    print()\n",
    "    "
   ]
  },
  {
   "cell_type": "markdown",
   "id": "539fc9ff",
   "metadata": {},
   "source": [
    "Subset K"
   ]
  },
  {
   "cell_type": "code",
   "execution_count": 5,
   "id": "2b6d8a57",
   "metadata": {},
   "outputs": [
    {
     "name": "stdout",
     "output_type": "stream",
     "text": [
      "9\n",
      "5 12 3 17 1 18 15 3 17\n",
      "6\n",
      "3 3 \n",
      "5 1 \n"
     ]
    }
   ],
   "source": [
    "\n",
    "import sys\n",
    "sys.setrecursionlimit(10**6)\n",
    "\n",
    "def subsetsSumKHelper(arr, startIndex, k) :\n",
    "    if startIndex == len(arr) :\n",
    "        if k == 0 :\n",
    "            return [list()]\n",
    "        else :\n",
    "            return list()\n",
    "        \n",
    "    smallOutput1 = subsetsSumKHelper(arr, startIndex + 1, k) \n",
    "    smallOutput2 = subsetsSumKHelper(arr, startIndex + 1, k - arr[startIndex]) \n",
    "    \n",
    "    output = (len(smallOutput1) + len(smallOutput2)) * [0]\n",
    "    \n",
    "    index = 0\n",
    "    for i in range(len(smallOutput1)) :\n",
    "        output[index] = smallOutput1[i]\n",
    "        index += 1\n",
    "        \n",
    "    for i in range(len(smallOutput2)) :\n",
    "        output[index] = (len(smallOutput2[i]) + 1) * [0]\n",
    "        output[index][0]= arr[startIndex]\n",
    "        \n",
    "        for j in range(len(smallOutput2[i])) :\n",
    "            output[index][j+1] = smallOutput2[i][j]\n",
    "            \n",
    "        index += 1\n",
    "        \n",
    "    return output\n",
    "        \n",
    "\n",
    "def subsetsSumK(arr, k) :\n",
    "    return subsetsSumKHelper(arr, 0, k)\n",
    "\n",
    "\n",
    "def takeInput() :\n",
    "    n = int(input().strip())\n",
    "\n",
    "    if n == 0 :\n",
    "        return list(), 0\n",
    "\n",
    "    arr = [int(element) for element in list(input().strip().split(\" \"))]\n",
    "    return arr, n\n",
    "\n",
    "\n",
    "#printing the list of lists\n",
    "def printListOfList(liOfLi) :\n",
    "    for li in liOfLi :\n",
    "        for elem in li :\n",
    "            print(elem, end = \" \")\n",
    "        print()\n",
    "\n",
    "#main\n",
    "arr,n = takeInput()\n",
    "if n != 0 :\n",
    "    k = int(input().strip())\n",
    "    liOfLi = subsetsSumK(arr, k)\n",
    "\n",
    "    printListOfList(liOfLi)"
   ]
  },
  {
   "cell_type": "markdown",
   "id": "087b788e",
   "metadata": {},
   "source": [
    "print subsets"
   ]
  },
  {
   "cell_type": "code",
   "execution_count": 1,
   "id": "cc1d9530",
   "metadata": {},
   "outputs": [
    {
     "name": "stdout",
     "output_type": "stream",
     "text": [
      "7 8 15\n",
      "1\n",
      "2\n",
      "4\n",
      "\n",
      "7 \n",
      "8 \n",
      "7 8 \n",
      "15 \n",
      "7 15 \n",
      "8 15 \n",
      "7 8 15 \n"
     ]
    }
   ],
   "source": [
    "def subsetsHelper(arr):\n",
    "    \n",
    "    n=len(arr)\n",
    "    if n<=0:\n",
    "        smallpart=[[]]\n",
    "        return smallpart\n",
    "    \n",
    "    smallpart=subsetsHelper(arr[:n-1])\n",
    "    x=len(smallpart)\n",
    "    print(x)\n",
    "    for i in range(x):\n",
    "        smallpart.append(smallpart[i].copy())\n",
    "        smallpart[x+i].append(arr[n-1])\n",
    "    return smallpart\n",
    "\n",
    "\n",
    "def subsets(arr):\n",
    "    return subsetsHelper(arr)\n",
    "\n",
    "\n",
    "arr=[int(x) for x in input().split()]\n",
    "k=subsets(arr)\n",
    "for i in k:\n",
    "    for j in i:\n",
    "        print(j,end=\" \")\n",
    "    print()"
   ]
  },
  {
   "cell_type": "code",
   "execution_count": 10,
   "id": "0acdd487",
   "metadata": {},
   "outputs": [],
   "source": [
    "x=5*[0]"
   ]
  },
  {
   "cell_type": "code",
   "execution_count": 11,
   "id": "0d362370",
   "metadata": {},
   "outputs": [
    {
     "data": {
      "text/plain": [
       "[0, 0, 0, 0, 0]"
      ]
     },
     "execution_count": 11,
     "metadata": {},
     "output_type": "execute_result"
    }
   ],
   "source": [
    "x"
   ]
  },
  {
   "cell_type": "code",
   "execution_count": null,
   "id": "6cfef095",
   "metadata": {},
   "outputs": [],
   "source": []
  }
 ],
 "metadata": {
  "kernelspec": {
   "display_name": "Python 3 (ipykernel)",
   "language": "python",
   "name": "python3"
  },
  "language_info": {
   "codemirror_mode": {
    "name": "ipython",
    "version": 3
   },
   "file_extension": ".py",
   "mimetype": "text/x-python",
   "name": "python",
   "nbconvert_exporter": "python",
   "pygments_lexer": "ipython3",
   "version": "3.9.7"
  }
 },
 "nbformat": 4,
 "nbformat_minor": 5
}
