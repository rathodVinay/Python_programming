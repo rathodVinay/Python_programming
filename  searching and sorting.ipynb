{
 "cells": [
  {
   "cell_type": "code",
   "execution_count": 1,
   "id": "f3fed3f5",
   "metadata": {},
   "outputs": [
    {
     "name": "stdout",
     "output_type": "stream",
     "text": [
      "4\n",
      "8\n",
      "2\n",
      "16\n"
     ]
    }
   ],
   "source": [
    "##CALCULATOR PROBLEM\n",
    "\n",
    "n=int(input())\n",
    "a=int(input())\n",
    "b=int(input())\n",
    "while n!=6:\n",
    "    \n",
    "    if n==1:\n",
    "        print(a+b)\n",
    "        break\n",
    "    elif n==2:\n",
    "        print(a-b)\n",
    "        break\n",
    "    elif n==3:\n",
    "        print(a//b)\n",
    "        break\n",
    "    elif n==4:\n",
    "        print(a*b)\n",
    "        break\n",
    "    elif n==5:\n",
    "        print(a**b)\n",
    "        break\n",
    "    elif n==6:\n",
    "        print('Program exists')\n",
    "    else:\n",
    "        print('Invalid operation')"
   ]
  },
  {
   "cell_type": "markdown",
   "id": "8d6a0bd7",
   "metadata": {},
   "source": [
    "Binary search"
   ]
  },
  {
   "cell_type": "code",
   "execution_count": 2,
   "id": "5a500da7",
   "metadata": {},
   "outputs": [
    {
     "name": "stdout",
     "output_type": "stream",
     "text": [
      "5\n"
     ]
    },
    {
     "data": {
      "text/plain": [
       "3"
      ]
     },
     "execution_count": 2,
     "metadata": {},
     "output_type": "execute_result"
    }
   ],
   "source": [
    "def binary_search(a,x):\n",
    "    \n",
    "    for i in range(len(a)):\n",
    "        upper_bound=len(a)-1\n",
    "        lower_bound=i\n",
    "        middle=(lower_bound+upper_bound)//2\n",
    "        while lower_bound<=upper_bound:#for repeating till the logic is true\n",
    "            middle=(lower_bound+upper_bound)//2\n",
    "            if x==a[middle]:\n",
    "                return middle\n",
    "            elif x>a[middle]:\n",
    "                #upper element doesn't change\n",
    "                \n",
    "                lower_bound=middle+1\n",
    "            else:\n",
    "                upper_bound=middle-1\n",
    "                \n",
    "        return 'Element is not present',-1\n",
    "                \n",
    "\n",
    "a=[2,3,4,5,6,8]\n",
    "x=int(input())\n",
    "binary_search(a,x)"
   ]
  },
  {
   "cell_type": "markdown",
   "id": "0e7ac467",
   "metadata": {},
   "source": [
    "selection sort"
   ]
  },
  {
   "cell_type": "code",
   "execution_count": 8,
   "id": "8110e9ff",
   "metadata": {},
   "outputs": [
    {
     "data": {
      "text/plain": [
       "[2, 14, 16, 17, 19, 20]"
      ]
     },
     "execution_count": 8,
     "metadata": {},
     "output_type": "execute_result"
    }
   ],
   "source": [
    "def selection_sort(a,size):\n",
    "    for i in range(size):\n",
    "        minimum=i\n",
    "        for j in range(i+1,size):\n",
    "            if a[j]<a[minimum]:#checks if 1st element is smaller compared to 0th element if true then minimum is shifted 1\n",
    "                minimum=j\n",
    "                \n",
    "        a[minimum],a[i]=a[i],a[minimum] #swaps the numbers till the lowest number of unsorted array comes 1st\n",
    "            \n",
    "    return a\n",
    "\n",
    "\n",
    "a=[19,14,16,17,20,2]\n",
    "size=len(a)\n",
    "selection_sort(a,size)\n"
   ]
  },
  {
   "cell_type": "markdown",
   "id": "0a76205e",
   "metadata": {},
   "source": [
    "Bubble sort"
   ]
  },
  {
   "cell_type": "code",
   "execution_count": 2,
   "id": "ade78f84",
   "metadata": {},
   "outputs": [
    {
     "data": {
      "text/plain": [
       "[3, 12, 17, 18, 21, 31]"
      ]
     },
     "execution_count": 2,
     "metadata": {},
     "output_type": "execute_result"
    }
   ],
   "source": [
    "def bubble_sort(a,size):\n",
    "    for i in range(size-1):#to go through the range from o to len(a)\n",
    "        for j in range(0,size-i-1):#for columns\n",
    "            if a[j]>a[j+1]: #if the 0th element is > than 1st element then it is swapped till the last element of an array \n",
    "                #if we want ascending order then >\n",
    "                a[j],a[j+1]=a[j+1],a[j]#swapping numbers\n",
    "    return a\n",
    "\n",
    "a=[12,31,17,18,21,3]\n",
    "size=len(a)\n",
    "bubble_sort(a,size)"
   ]
  },
  {
   "cell_type": "code",
   "execution_count": 15,
   "id": "fddb71b2",
   "metadata": {},
   "outputs": [
    {
     "data": {
      "text/plain": [
       "[1, 2, 3, 4, 5, 6, 9, 10, 11, 12, 13]"
      ]
     },
     "execution_count": 15,
     "metadata": {},
     "output_type": "execute_result"
    }
   ],
   "source": [
    "def merging_arrays(a1,a2,n,m):\n",
    "    i=0\n",
    "    j=0\n",
    "    ans=[]\n",
    "    while i<n and j<m:\n",
    "        if a1[i]<a2[j]:\n",
    "            ans.append(a1[i])\n",
    "            i=i+1\n",
    "        else:\n",
    "            ans.append(a2[j])\n",
    "            j=j+1\n",
    "    while i<n:\n",
    "        ans.append(a1[i])\n",
    "        i=i+1\n",
    "    while j<m:\n",
    "        ans.append(a2[j])\n",
    "        j=j+1\n",
    "    return ans\n",
    "\n",
    "\n",
    "\n",
    "a1=[1,2,3,4,5,6]\n",
    "a2=[9,10,11,12,13]\n",
    "n=len(a1)\n",
    "m=len(a2)\n",
    "merging_arrays(a1,a2,n,m)"
   ]
  },
  {
   "cell_type": "code",
   "execution_count": 26,
   "id": "a00b8382",
   "metadata": {},
   "outputs": [
    {
     "data": {
      "text/plain": [
       "30"
      ]
     },
     "execution_count": 26,
     "metadata": {},
     "output_type": "execute_result"
    }
   ],
   "source": [
    "def largest(a):\n",
    "    max=a[0] #initialize the element to keep count\n",
    "    for i in range(1,len(a)): #compare all elements from 1st index with max\n",
    "        if a[i]>max:#check for the condition\n",
    "            max=a[i]\n",
    "    return max\n",
    "            \n",
    "    \n",
    "\n",
    "a=[2,12,30,15]\n",
    "largest(a)"
   ]
  },
  {
   "cell_type": "code",
   "execution_count": 2,
   "id": "4d181a55",
   "metadata": {},
   "outputs": [
    {
     "name": "stdout",
     "output_type": "stream",
     "text": [
      "45\n",
      "99\n"
     ]
    }
   ],
   "source": [
    "list1 = [10, 20, 4, 45, 99]\n",
    " \n",
    "mx=max(list1[0],list1[1])\n",
    "secondmax=min(list1[0],list1[1])\n",
    "n =len(list1)\n",
    "for i in range(2,n):\n",
    "    if list1[i]>mx:\n",
    "        secondmax=mx\n",
    "        mx=list1[i]\n",
    "    elif list1[i]>secondmax and \\\n",
    "        mx != list1[i]:\n",
    "        secondmax=list1[i]\n",
    "\n",
    "print(secondmax)\n",
    "print(mx)"
   ]
  },
  {
   "cell_type": "code",
   "execution_count": 3,
   "id": "47034cc0",
   "metadata": {},
   "outputs": [
    {
     "name": "stdout",
     "output_type": "stream",
     "text": [
      "2\n"
     ]
    }
   ],
   "source": [
    "def countRotations(arr, n):\n",
    " \n",
    "    # We basically find index\n",
    "    # of minimum element\n",
    "    min = arr[0]\n",
    "    for i in range(1, n):\n",
    "     \n",
    "        if (min>arr[i]):\n",
    "         \n",
    "            min = arr[i]\n",
    "            min_index = i\n",
    "         \n",
    "    return min_index;\n",
    "\n",
    " \n",
    " \n",
    "arr = [15, 18, 2, 3, 6, 12]\n",
    "n = len(arr)\n",
    "print(countRotations(arr, n))\n",
    " "
   ]
  },
  {
   "cell_type": "raw",
   "id": "1611a48e",
   "metadata": {},
   "source": [
    "sort 012\n",
    "''' just have to check if middle=0 then swap by incrementing low and mid\n",
    "* if middle==1 then increment middle \n",
    "*if anything other then swap with high by decrementing high"
   ]
  },
  {
   "cell_type": "code",
   "execution_count": 8,
   "id": "65a8fcd1",
   "metadata": {},
   "outputs": [],
   "source": [
    "def sort012(arr,n):\n",
    "    \n",
    "    mid=0\n",
    "    low=0\n",
    "    high=n-1\n",
    "    while (mid<=high):\n",
    "        if arr[mid]==0:\n",
    "            arr[low],arr[mid]=arr[mid],arr[low]\n",
    "            mid+=1\n",
    "            low+=1\n",
    "        elif arr[mid]==1:\n",
    "            mid=mid+1\n",
    "        else:\n",
    "            arr[high],arr[mid]=arr[mid],arr[high]\n",
    "            high=high-1\n",
    "    return arr"
   ]
  },
  {
   "cell_type": "code",
   "execution_count": 9,
   "id": "44591deb",
   "metadata": {},
   "outputs": [
    {
     "name": "stdout",
     "output_type": "stream",
     "text": [
      "6\n",
      "1\n",
      "1\n",
      "2\n",
      "2\n",
      "0\n",
      "0\n"
     ]
    }
   ],
   "source": [
    "li=[]\n",
    "n=int(input())\n",
    "for i in range(n):\n",
    "    li.append(int(input()))"
   ]
  },
  {
   "cell_type": "code",
   "execution_count": 10,
   "id": "9b1b3087",
   "metadata": {},
   "outputs": [
    {
     "data": {
      "text/plain": [
       "[0, 0, 1, 1, 2, 2]"
      ]
     },
     "execution_count": 10,
     "metadata": {},
     "output_type": "execute_result"
    }
   ],
   "source": [
    "sort012(arr,n)"
   ]
  },
  {
   "cell_type": "code",
   "execution_count": null,
   "id": "7aa37627",
   "metadata": {},
   "outputs": [],
   "source": []
  }
 ],
 "metadata": {
  "kernelspec": {
   "display_name": "Python 3 (ipykernel)",
   "language": "python",
   "name": "python3"
  },
  "language_info": {
   "codemirror_mode": {
    "name": "ipython",
    "version": 3
   },
   "file_extension": ".py",
   "mimetype": "text/x-python",
   "name": "python",
   "nbconvert_exporter": "python",
   "pygments_lexer": "ipython3",
   "version": "3.9.7"
  }
 },
 "nbformat": 4,
 "nbformat_minor": 5
}
