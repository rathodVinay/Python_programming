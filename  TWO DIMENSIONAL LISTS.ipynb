{
 "cells": [
  {
   "cell_type": "raw",
   "id": "19ba693a",
   "metadata": {},
   "source": [
    "Defined as\n",
    "L[rows]L[columns]\n",
    "L[i],L[j]"
   ]
  },
  {
   "cell_type": "markdown",
   "id": "f94a0025",
   "metadata": {},
   "source": [
    "# How 2D Are Represented"
   ]
  },
  {
   "cell_type": "code",
   "execution_count": 10,
   "id": "ec4ddceb",
   "metadata": {},
   "outputs": [],
   "source": [
    "li=[1,2,3,4,5],[6,7,8,9,10],[11,12,13,14,15],[16,17,18,19,20]"
   ]
  },
  {
   "cell_type": "code",
   "execution_count": 2,
   "id": "e4d9301f",
   "metadata": {},
   "outputs": [
    {
     "data": {
      "text/plain": [
       "20"
      ]
     },
     "execution_count": 2,
     "metadata": {},
     "output_type": "execute_result"
    }
   ],
   "source": [
    "li[3][4]"
   ]
  },
  {
   "cell_type": "code",
   "execution_count": 12,
   "id": "bba4d928",
   "metadata": {},
   "outputs": [],
   "source": [
    "li[3][4]=21"
   ]
  },
  {
   "cell_type": "code",
   "execution_count": 15,
   "id": "126452c4",
   "metadata": {},
   "outputs": [
    {
     "data": {
      "text/plain": [
       "2596230293808"
      ]
     },
     "execution_count": 15,
     "metadata": {},
     "output_type": "execute_result"
    }
   ],
   "source": [
    "li\n",
    "id(li[0][0])\n"
   ]
  },
  {
   "cell_type": "markdown",
   "id": "2709d9b1",
   "metadata": {},
   "source": [
    "# How 2D Lists are sorted"
   ]
  },
  {
   "cell_type": "code",
   "execution_count": 5,
   "id": "c15452a3",
   "metadata": {},
   "outputs": [
    {
     "data": {
      "text/plain": [
       "list"
      ]
     },
     "execution_count": 5,
     "metadata": {},
     "output_type": "execute_result"
    }
   ],
   "source": [
    "#2D lists is list of list\n",
    "li=[1,2,3,4,5]\n",
    "type(li)"
   ]
  },
  {
   "cell_type": "code",
   "execution_count": 6,
   "id": "5b208f19",
   "metadata": {},
   "outputs": [
    {
     "data": {
      "text/plain": [
       "2594164154688"
      ]
     },
     "execution_count": 6,
     "metadata": {},
     "output_type": "execute_result"
    }
   ],
   "source": [
    "id(li)"
   ]
  },
  {
   "cell_type": "code",
   "execution_count": 7,
   "id": "044649de",
   "metadata": {},
   "outputs": [
    {
     "data": {
      "text/plain": [
       "2594163272768"
      ]
     },
     "execution_count": 7,
     "metadata": {},
     "output_type": "execute_result"
    }
   ],
   "source": [
    "b=[1,2,3,4,5]\n",
    "id(b)"
   ]
  },
  {
   "cell_type": "code",
   "execution_count": 16,
   "id": "d8c6ffc6",
   "metadata": {},
   "outputs": [
    {
     "data": {
      "text/plain": [
       "2594163348160"
      ]
     },
     "execution_count": 16,
     "metadata": {},
     "output_type": "execute_result"
    }
   ],
   "source": [
    "li=[1,2,3,4,5],[6,7,8,9,10]\n",
    "id(li)"
   ]
  },
  {
   "cell_type": "code",
   "execution_count": 19,
   "id": "225e1564",
   "metadata": {},
   "outputs": [
    {
     "data": {
      "text/plain": [
       "([1, 2, 3, 4, 5], [6, 7, 8, 9, 10])"
      ]
     },
     "execution_count": 19,
     "metadata": {},
     "output_type": "execute_result"
    }
   ],
   "source": [
    "\n",
    "li"
   ]
  },
  {
   "cell_type": "code",
   "execution_count": 26,
   "id": "71fc2c29",
   "metadata": {},
   "outputs": [
    {
     "ename": "IndexError",
     "evalue": "list index out of range",
     "output_type": "error",
     "traceback": [
      "\u001b[1;31m---------------------------------------------------------------------------\u001b[0m",
      "\u001b[1;31mIndexError\u001b[0m                                Traceback (most recent call last)",
      "\u001b[1;32mC:\\Users\\VINAYA~1\\AppData\\Local\\Temp/ipykernel_1064/3567974518.py\u001b[0m in \u001b[0;36m<module>\u001b[1;34m\u001b[0m\n\u001b[1;32m----> 1\u001b[1;33m \u001b[0mli\u001b[0m\u001b[1;33m[\u001b[0m\u001b[1;36m1\u001b[0m\u001b[1;33m]\u001b[0m\u001b[1;33m[\u001b[0m\u001b[1;36m6\u001b[0m\u001b[1;33m]\u001b[0m\u001b[1;33m\u001b[0m\u001b[1;33m\u001b[0m\u001b[0m\n\u001b[0m\u001b[0;32m      2\u001b[0m \u001b[0mli\u001b[0m\u001b[1;33m\u001b[0m\u001b[1;33m\u001b[0m\u001b[0m\n",
      "\u001b[1;31mIndexError\u001b[0m: list index out of range"
     ]
    }
   ],
   "source": [
    "li[1][6]\n",
    "li"
   ]
  },
  {
   "cell_type": "raw",
   "id": "6e5abdfb",
   "metadata": {},
   "source": [
    "jagged list:\n",
    " *2D list in which column sizes are not equal   "
   ]
  },
  {
   "cell_type": "code",
   "execution_count": 32,
   "id": "81897f27",
   "metadata": {},
   "outputs": [],
   "source": [
    "li=[1,2,3,4,5],[6,7,8],[9,10,11,12,12]"
   ]
  },
  {
   "cell_type": "code",
   "execution_count": 33,
   "id": "61c05a98",
   "metadata": {},
   "outputs": [
    {
     "data": {
      "text/plain": [
       "[1, 2, 3, 4, 5]"
      ]
     },
     "execution_count": 33,
     "metadata": {},
     "output_type": "execute_result"
    }
   ],
   "source": [
    "li[0]"
   ]
  },
  {
   "cell_type": "code",
   "execution_count": 34,
   "id": "36441bd4",
   "metadata": {},
   "outputs": [
    {
     "data": {
      "text/plain": [
       "[6, 7, 8]"
      ]
     },
     "execution_count": 34,
     "metadata": {},
     "output_type": "execute_result"
    }
   ],
   "source": [
    "li[1]"
   ]
  },
  {
   "cell_type": "code",
   "execution_count": 35,
   "id": "747fcc0a",
   "metadata": {},
   "outputs": [
    {
     "data": {
      "text/plain": [
       "[9, 10, 11, 12, 12]"
      ]
     },
     "execution_count": 35,
     "metadata": {},
     "output_type": "execute_result"
    }
   ],
   "source": [
    "li[2]"
   ]
  },
  {
   "cell_type": "code",
   "execution_count": 36,
   "id": "c9528f81",
   "metadata": {},
   "outputs": [
    {
     "data": {
      "text/plain": [
       "8"
      ]
     },
     "execution_count": 36,
     "metadata": {},
     "output_type": "execute_result"
    }
   ],
   "source": [
    "li[1][2]"
   ]
  },
  {
   "cell_type": "code",
   "execution_count": 37,
   "id": "9bacf583",
   "metadata": {},
   "outputs": [
    {
     "data": {
      "text/plain": [
       "5"
      ]
     },
     "execution_count": 37,
     "metadata": {},
     "output_type": "execute_result"
    }
   ],
   "source": [
    "li[0][4]"
   ]
  },
  {
   "cell_type": "code",
   "execution_count": 38,
   "id": "711d5cf8",
   "metadata": {},
   "outputs": [
    {
     "ename": "IndexError",
     "evalue": "list index out of range",
     "output_type": "error",
     "traceback": [
      "\u001b[1;31m---------------------------------------------------------------------------\u001b[0m",
      "\u001b[1;31mIndexError\u001b[0m                                Traceback (most recent call last)",
      "\u001b[1;32mC:\\Users\\VINAYA~1\\AppData\\Local\\Temp/ipykernel_1064/2583674949.py\u001b[0m in \u001b[0;36m<module>\u001b[1;34m\u001b[0m\n\u001b[1;32m----> 1\u001b[1;33m \u001b[0mli\u001b[0m\u001b[1;33m[\u001b[0m\u001b[1;36m1\u001b[0m\u001b[1;33m]\u001b[0m\u001b[1;33m[\u001b[0m\u001b[1;36m4\u001b[0m\u001b[1;33m]\u001b[0m\u001b[1;33m\u001b[0m\u001b[1;33m\u001b[0m\u001b[0m\n\u001b[0m",
      "\u001b[1;31mIndexError\u001b[0m: list index out of range"
     ]
    }
   ],
   "source": [
    "li[1][4] #since column size is not same"
   ]
  },
  {
   "cell_type": "code",
   "execution_count": 39,
   "id": "bcfd684b",
   "metadata": {},
   "outputs": [
    {
     "ename": "IndexError",
     "evalue": "list index out of range",
     "output_type": "error",
     "traceback": [
      "\u001b[1;31m---------------------------------------------------------------------------\u001b[0m",
      "\u001b[1;31mIndexError\u001b[0m                                Traceback (most recent call last)",
      "\u001b[1;32mC:\\Users\\VINAYA~1\\AppData\\Local\\Temp/ipykernel_1064/2952916073.py\u001b[0m in \u001b[0;36m<module>\u001b[1;34m\u001b[0m\n\u001b[0;32m      1\u001b[0m \u001b[0mli\u001b[0m\u001b[1;33m=\u001b[0m\u001b[1;33m[\u001b[0m\u001b[1;36m1\u001b[0m\u001b[1;33m,\u001b[0m\u001b[1;36m2\u001b[0m\u001b[1;33m,\u001b[0m\u001b[1;36m3\u001b[0m\u001b[1;33m,\u001b[0m\u001b[1;36m4\u001b[0m\u001b[1;33m]\u001b[0m\u001b[1;33m,\u001b[0m\u001b[1;33m[\u001b[0m\u001b[1;36m5\u001b[0m\u001b[1;33m,\u001b[0m\u001b[1;36m6\u001b[0m\u001b[1;33m]\u001b[0m\u001b[1;33m,\u001b[0m\u001b[1;33m[\u001b[0m\u001b[1;36m7\u001b[0m\u001b[1;33m,\u001b[0m\u001b[1;36m8\u001b[0m\u001b[1;33m,\u001b[0m\u001b[1;36m9\u001b[0m\u001b[1;33m]\u001b[0m\u001b[1;33m\u001b[0m\u001b[1;33m\u001b[0m\u001b[0m\n\u001b[1;32m----> 2\u001b[1;33m \u001b[0mprint\u001b[0m\u001b[1;33m(\u001b[0m\u001b[0mli\u001b[0m\u001b[1;33m[\u001b[0m\u001b[1;36m1\u001b[0m\u001b[1;33m]\u001b[0m\u001b[1;33m[\u001b[0m\u001b[1;36m3\u001b[0m\u001b[1;33m]\u001b[0m\u001b[1;33m)\u001b[0m\u001b[1;33m\u001b[0m\u001b[1;33m\u001b[0m\u001b[0m\n\u001b[0m",
      "\u001b[1;31mIndexError\u001b[0m: list index out of range"
     ]
    }
   ],
   "source": [
    "li=[1,2,3,4],[5,6],[7,8,9]\n",
    "print(li[1][3])"
   ]
  },
  {
   "cell_type": "code",
   "execution_count": 40,
   "id": "d9d04ca7",
   "metadata": {},
   "outputs": [
    {
     "data": {
      "text/plain": [
       "True"
      ]
     },
     "execution_count": 40,
     "metadata": {},
     "output_type": "execute_result"
    }
   ],
   "source": [
    "li[0]<li[1]"
   ]
  },
  {
   "cell_type": "markdown",
   "id": "2b2c3177",
   "metadata": {},
   "source": [
    "# LIST COMPREHENSION"
   ]
  },
  {
   "cell_type": "code",
   "execution_count": 41,
   "id": "c6271cd0",
   "metadata": {},
   "outputs": [
    {
     "name": "stdout",
     "output_type": "stream",
     "text": [
      "[1, 4, 9, 16, 25]\n"
     ]
    }
   ],
   "source": [
    "#finding square of each element\n",
    "\n",
    "li=[1,2,3,4,5]\n",
    "li_new=[]\n",
    "for ele in li:\n",
    "    li_new.append(ele**2)\n",
    "print(li_new)\n"
   ]
  },
  {
   "cell_type": "code",
   "execution_count": 42,
   "id": "86437a81",
   "metadata": {},
   "outputs": [],
   "source": [
    "li=[2,4,6,8,3]\n",
    "li_old=[ele**2 for ele in li]"
   ]
  },
  {
   "cell_type": "code",
   "execution_count": 43,
   "id": "aa190ca0",
   "metadata": {},
   "outputs": [
    {
     "data": {
      "text/plain": [
       "[4, 16, 36, 64, 9]"
      ]
     },
     "execution_count": 43,
     "metadata": {},
     "output_type": "execute_result"
    }
   ],
   "source": [
    "li_old"
   ]
  },
  {
   "cell_type": "code",
   "execution_count": 44,
   "id": "eb22955c",
   "metadata": {},
   "outputs": [],
   "source": [
    " li=[1,2,3,4,5,6,7,8]\n",
    "li_even=[ele**2 for ele in li if ele%2==0]"
   ]
  },
  {
   "cell_type": "code",
   "execution_count": 45,
   "id": "ee5c73c4",
   "metadata": {},
   "outputs": [
    {
     "data": {
      "text/plain": [
       "[4, 16, 36, 64]"
      ]
     },
     "execution_count": 45,
     "metadata": {},
     "output_type": "execute_result"
    }
   ],
   "source": [
    "li_even"
   ]
  },
  {
   "cell_type": "code",
   "execution_count": 46,
   "id": "b8852aa2",
   "metadata": {},
   "outputs": [
    {
     "name": "stdout",
     "output_type": "stream",
     "text": [
      "1 2 3 4 5 6 7 8 9\n",
      "[1, 9, 25, 49, 81]\n"
     ]
    }
   ],
   "source": [
    "li=[int(x) for x in input().split()]\n",
    "li_oddsquare=[ele**2 for ele in li if ele%2==1]\n",
    "print(li_oddsquare)"
   ]
  },
  {
   "cell_type": "code",
   "execution_count": 47,
   "id": "e74793dc",
   "metadata": {},
   "outputs": [
    {
     "name": "stdout",
     "output_type": "stream",
     "text": [
      "1 2 3 4 5 6 7 8 9\n",
      "[6]\n"
     ]
    }
   ],
   "source": [
    "#if list is multiple of 2 and 3\n",
    "li=[int(x) for x in input().split()]\n",
    "li_multiples=[ele for ele in li if ele%2==0 if ele%3==0]\n",
    "print(li_multiples)"
   ]
  },
  {
   "cell_type": "code",
   "execution_count": 50,
   "id": "b4917e83",
   "metadata": {},
   "outputs": [
    {
     "name": "stdout",
     "output_type": "stream",
     "text": [
      "[1, 4, 3, 16, 5, 36, 7]\n"
     ]
    }
   ],
   "source": [
    "li=[1,2,3,4,5,6,7]\n",
    "li_ele=[ele**2 if ele%2==0 else ele for ele in li]\n",
    "print(li_ele)"
   ]
  },
  {
   "cell_type": "code",
   "execution_count": 48,
   "id": "86ab18de",
   "metadata": {},
   "outputs": [
    {
     "name": "stdout",
     "output_type": "stream",
     "text": [
      "[1, 3, 5]\n"
     ]
    }
   ],
   "source": [
    "#printing the element which are present in both lists\n",
    "li1=[1,2,3,4,5]\n",
    "li2=[1,3,5,6,7]\n",
    "common=[]\n",
    "for ele in li1:\n",
    "    for ele1 in li2:\n",
    "        if ele==ele1:\n",
    "            common.append(ele)\n",
    "print(common)\n",
    "        "
   ]
  },
  {
   "cell_type": "code",
   "execution_count": 49,
   "id": "4505d615",
   "metadata": {},
   "outputs": [
    {
     "name": "stdout",
     "output_type": "stream",
     "text": [
      "['P', 'r', 'a', 't', 'h', 'v', 'i', ' ', 'D', 'a', 'g', 'a', 'r']\n"
     ]
    }
   ],
   "source": [
    "s='Prathvi Dagar'\n",
    "li=[ele for ele in s]\n",
    "print(li)"
   ]
  },
  {
   "cell_type": "code",
   "execution_count": 52,
   "id": "a8cc0a7d",
   "metadata": {},
   "outputs": [],
   "source": [
    "li=[\"Vinayak\",\"Raghavendra\",\"Prathvi\"]\n",
    "li_2D=[[s for s in ele]for ele in li]"
   ]
  },
  {
   "cell_type": "code",
   "execution_count": 53,
   "id": "3d7631c0",
   "metadata": {},
   "outputs": [
    {
     "data": {
      "text/plain": [
       "[['V', 'i', 'n', 'a', 'y', 'a', 'k'],\n",
       " ['R', 'a', 'g', 'h', 'a', 'v', 'e', 'n', 'd', 'r', 'a'],\n",
       " ['P', 'r', 'a', 't', 'h', 'v', 'i']]"
      ]
     },
     "execution_count": 53,
     "metadata": {},
     "output_type": "execute_result"
    }
   ],
   "source": [
    "li_2D"
   ]
  },
  {
   "cell_type": "code",
   "execution_count": 54,
   "id": "13486bd6",
   "metadata": {},
   "outputs": [
    {
     "name": "stdout",
     "output_type": "stream",
     "text": [
      "[0, 9, 36, 81]\n"
     ]
    }
   ],
   "source": [
    "li=[ele**2 for ele in range(10) if ele%3==0]\n",
    "print(li)"
   ]
  },
  {
   "cell_type": "code",
   "execution_count": 57,
   "id": "c83333cc",
   "metadata": {},
   "outputs": [
    {
     "data": {
      "text/plain": [
       "[[0, 0, 0, 0], [0, 1, 2, 3], [0, 2, 4, 6]]"
      ]
     },
     "execution_count": 57,
     "metadata": {},
     "output_type": "execute_result"
    }
   ],
   "source": [
    "li=[[i*j for j in range(4)] for i in range(3)]\n",
    "li"
   ]
  },
  {
   "cell_type": "markdown",
   "id": "acff562e",
   "metadata": {},
   "source": [
    "# INPUT OF 2D LISTS"
   ]
  },
  {
   "cell_type": "code",
   "execution_count": 13,
   "id": "9c0a908a",
   "metadata": {},
   "outputs": [
    {
     "name": "stdout",
     "output_type": "stream",
     "text": [
      "1 2 3 4 5\n"
     ]
    },
    {
     "data": {
      "text/plain": [
       "[[1, 2, 3, 4, 5]]"
      ]
     },
     "execution_count": 13,
     "metadata": {},
     "output_type": "execute_result"
    }
   ],
   "source": [
    "\n",
    "li=[[int(j) for j in input().split()] ]\n",
    "li"
   ]
  },
  {
   "cell_type": "code",
   "execution_count": 21,
   "id": "fd275131",
   "metadata": {},
   "outputs": [
    {
     "name": "stdout",
     "output_type": "stream",
     "text": [
      "1 2 3 4\n",
      "1 2 \n",
      "5 6 7 8 9\n",
      "[[1, 2, 3, 4], [1, 2], [5, 6, 7, 8, 9]]\n"
     ]
    }
   ],
   "source": [
    "li=[[int(j) for j in input().split()] for i in range(3)]\n",
    "print(li)"
   ]
  },
  {
   "cell_type": "code",
   "execution_count": null,
   "id": "fe40c623",
   "metadata": {},
   "outputs": [],
   "source": [
    "#printing in 2d array 1,2,3,4,5,6,7,8,9\n",
    "str=input().split()\n",
    "n,m=int(str[0]),int(str[1])\n",
    "li="
   ]
  },
  {
   "cell_type": "code",
   "execution_count": 6,
   "id": "4425464d",
   "metadata": {},
   "outputs": [
    {
     "name": "stdout",
     "output_type": "stream",
     "text": [
      "yM emaN si nahk\n"
     ]
    }
   ],
   "source": [
    "sen='My,Name,is,khan'\n",
    "newword=\" \"\n",
    "word=[ele[::-1] for ele in sen.split(\",\")]\n",
    "newword=\" \".join(word)\n",
    "print(newword)"
   ]
  },
  {
   "cell_type": "code",
   "execution_count": 4,
   "id": "10c5ac37",
   "metadata": {},
   "outputs": [
    {
     "name": "stdout",
     "output_type": "stream",
     "text": [
      "1 2 3 4 \n",
      "2 15 21 24 \n",
      "11 7 8 9 \n"
     ]
    }
   ],
   "source": [
    "li=[[1,2,3,4],[2,15,21,24],[11,7,8,9]]\n",
    "n=3\n",
    "m=4\n",
    "for i in range(n):\n",
    "    for j in range(m):\n",
    "        print(li[i][j],end=\" \")\n",
    "    print()\n"
   ]
  },
  {
   "cell_type": "code",
   "execution_count": 9,
   "id": "d65cb06f",
   "metadata": {},
   "outputs": [
    {
     "name": "stdout",
     "output_type": "stream",
     "text": [
      "1 2 3 \n",
      "4 5 \n",
      "14 15 19 \n"
     ]
    }
   ],
   "source": [
    "#for jagged lists since no. of rows!=no.of columns\n",
    "p=[[1,2,3],[4,5],[14,15,19]]\n",
    "n=3\n",
    "for row in p:\n",
    "    for ele in row:\n",
    "        print(ele,end=\" \")\n",
    "    print()\n",
    "        \n",
    "    "
   ]
  },
  {
   "cell_type": "code",
   "execution_count": 1,
   "id": "c161fe16",
   "metadata": {},
   "outputs": [
    {
     "data": {
      "text/plain": [
       "'aabbabcabd'"
      ]
     },
     "execution_count": 1,
     "metadata": {},
     "output_type": "execute_result"
    }
   ],
   "source": [
    "'ab'.join('abcd')"
   ]
  },
  {
   "cell_type": "code",
   "execution_count": 16,
   "id": "deca17c4",
   "metadata": {},
   "outputs": [
    {
     "ename": "IndexError",
     "evalue": "list index out of range",
     "output_type": "error",
     "traceback": [
      "\u001b[1;31m---------------------------------------------------------------------------\u001b[0m",
      "\u001b[1;31mIndexError\u001b[0m                                Traceback (most recent call last)",
      "\u001b[1;32mC:\\Users\\VINAYA~1\\AppData\\Local\\Temp/ipykernel_1588/1681815982.py\u001b[0m in \u001b[0;36m<module>\u001b[1;34m\u001b[0m\n\u001b[0;32m     10\u001b[0m \u001b[0mmCols\u001b[0m\u001b[1;33m=\u001b[0m\u001b[1;36m4\u001b[0m\u001b[1;33m\u001b[0m\u001b[1;33m\u001b[0m\u001b[0m\n\u001b[0;32m     11\u001b[0m \u001b[0mmat\u001b[0m\u001b[1;33m=\u001b[0m\u001b[1;33m[\u001b[0m\u001b[1;33m[\u001b[0m\u001b[1;36m1\u001b[0m\u001b[1;33m,\u001b[0m\u001b[1;36m2\u001b[0m\u001b[1;33m,\u001b[0m\u001b[1;36m3\u001b[0m\u001b[1;33m,\u001b[0m\u001b[1;36m4\u001b[0m\u001b[1;33m]\u001b[0m\u001b[1;33m,\u001b[0m\u001b[1;33m[\u001b[0m\u001b[1;36m5\u001b[0m\u001b[1;33m,\u001b[0m\u001b[1;36m6\u001b[0m\u001b[1;33m,\u001b[0m\u001b[1;36m7\u001b[0m\u001b[1;33m,\u001b[0m\u001b[1;36m8\u001b[0m\u001b[1;33m]\u001b[0m\u001b[1;33m,\u001b[0m\u001b[1;33m[\u001b[0m\u001b[1;36m9\u001b[0m\u001b[1;33m,\u001b[0m\u001b[1;36m10\u001b[0m\u001b[1;33m,\u001b[0m\u001b[1;36m11\u001b[0m\u001b[1;33m,\u001b[0m\u001b[1;36m12\u001b[0m\u001b[1;33m]\u001b[0m\u001b[1;33m]\u001b[0m\u001b[1;33m\u001b[0m\u001b[1;33m\u001b[0m\u001b[0m\n\u001b[1;32m---> 12\u001b[1;33m \u001b[0msumrows\u001b[0m\u001b[1;33m(\u001b[0m\u001b[0mmat\u001b[0m\u001b[1;33m,\u001b[0m\u001b[0mnRows\u001b[0m\u001b[1;33m,\u001b[0m\u001b[0mnCols\u001b[0m\u001b[1;33m)\u001b[0m\u001b[1;33m\u001b[0m\u001b[1;33m\u001b[0m\u001b[0m\n\u001b[0m",
      "\u001b[1;32mC:\\Users\\VINAYA~1\\AppData\\Local\\Temp/ipykernel_1588/1681815982.py\u001b[0m in \u001b[0;36msumrows\u001b[1;34m(mat, nRows, mCols)\u001b[0m\n\u001b[0;32m      3\u001b[0m         \u001b[0msum_rows\u001b[0m\u001b[1;33m=\u001b[0m\u001b[1;36m0\u001b[0m\u001b[1;33m\u001b[0m\u001b[1;33m\u001b[0m\u001b[0m\n\u001b[0;32m      4\u001b[0m         \u001b[1;32mfor\u001b[0m \u001b[0mj\u001b[0m \u001b[1;32min\u001b[0m \u001b[0mrange\u001b[0m\u001b[1;33m(\u001b[0m\u001b[0mmCols\u001b[0m\u001b[1;33m)\u001b[0m\u001b[1;33m:\u001b[0m\u001b[1;33m\u001b[0m\u001b[1;33m\u001b[0m\u001b[0m\n\u001b[1;32m----> 5\u001b[1;33m             \u001b[0msum_rows\u001b[0m\u001b[1;33m+=\u001b[0m\u001b[0mmat\u001b[0m\u001b[1;33m[\u001b[0m\u001b[0mi\u001b[0m\u001b[1;33m]\u001b[0m\u001b[1;33m[\u001b[0m\u001b[0mj\u001b[0m\u001b[1;33m]\u001b[0m\u001b[1;33m\u001b[0m\u001b[1;33m\u001b[0m\u001b[0m\n\u001b[0m\u001b[0;32m      6\u001b[0m     \u001b[0mprint\u001b[0m\u001b[1;33m(\u001b[0m\u001b[0msum_rows\u001b[0m\u001b[1;33m,\u001b[0m\u001b[0mend\u001b[0m\u001b[1;33m=\u001b[0m\u001b[1;34m\"\"\u001b[0m\u001b[1;33m)\u001b[0m\u001b[1;33m\u001b[0m\u001b[1;33m\u001b[0m\u001b[0m\n\u001b[0;32m      7\u001b[0m \u001b[1;33m\u001b[0m\u001b[0m\n",
      "\u001b[1;31mIndexError\u001b[0m: list index out of range"
     ]
    }
   ],
   "source": [
    "def sumrows(mat,nRows,mCols):\n",
    "    for i in range(nRows):\n",
    "        sum_rows=0\n",
    "        for j in range(mCols):\n",
    "            sum_rows+=mat[i][j]\n",
    "    print(sum_rows,end=\"\")\n",
    "    \n",
    "\n",
    "nRows=4\n",
    "mCols=4\n",
    "mat=[[1,2,3,4],[5,6,7,8],[9,10,11,12]]\n",
    "sumrows(mat,nRows,nCols)\n"
   ]
  },
  {
   "cell_type": "code",
   "execution_count": null,
   "id": "f6504bbf",
   "metadata": {},
   "outputs": [],
   "source": []
  }
 ],
 "metadata": {
  "kernelspec": {
   "display_name": "Python 3 (ipykernel)",
   "language": "python",
   "name": "python3"
  },
  "language_info": {
   "codemirror_mode": {
    "name": "ipython",
    "version": 3
   },
   "file_extension": ".py",
   "mimetype": "text/x-python",
   "name": "python",
   "nbconvert_exporter": "python",
   "pygments_lexer": "ipython3",
   "version": "3.9.7"
  }
 },
 "nbformat": 4,
 "nbformat_minor": 5
}
